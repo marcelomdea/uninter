{
  "nbformat": 4,
  "nbformat_minor": 0,
  "metadata": {
    "colab": {
      "provenance": [],
      "authorship_tag": "ABX9TyPhMMxrqvXUxCY0BHCEyrrW",
      "include_colab_link": true
    },
    "kernelspec": {
      "name": "python3",
      "display_name": "Python 3"
    },
    "language_info": {
      "name": "python"
    }
  },
  "cells": [
    {
      "cell_type": "markdown",
      "metadata": {
        "id": "view-in-github",
        "colab_type": "text"
      },
      "source": [
        "<a href=\"https://colab.research.google.com/github/marcelomdea/uninter/blob/main/marcelo_uninter_big_data.ipynb\" target=\"_parent\"><img src=\"https://colab.research.google.com/assets/colab-badge.svg\" alt=\"Open In Colab\"/></a>"
      ]
    },
    {
      "cell_type": "markdown",
      "source": [
        "Prática 01 – Somatório de IDs"
      ],
      "metadata": {
        "id": "ZELqatT67Y5_"
      }
    },
    {
      "source": [
        "from pyspark.sql import SparkSession\n",
        "\n",
        "spark_RU4100225 = SparkSession.builder.appName(\"SomaIdFilmesNegativos\").getOrCreate()\n",
        "df = spark_RU4100225.read.csv(\"imdb-reviews-pt-br.csv\", header=True, inferSchema=True)\n",
        "filmes_negativos = df.filter(df[\"sentiment\"] == \"neg\")\n",
        "soma_ids = filmes_negativos.agg({\"id\": \"sum\"})\n",
        "soma_ids.show()\n",
        "print(\"Marcelo Moreira de Almeida - RU 4100225\")"
      ],
      "cell_type": "code",
      "metadata": {
        "colab": {
          "base_uri": "https://localhost:8080/"
        },
        "id": "rfAS7GUI5HPR",
        "outputId": "48f1221a-c60c-46a2-d2e3-40ecaf2a4f41"
      },
      "execution_count": 14,
      "outputs": [
        {
          "output_type": "stream",
          "name": "stdout",
          "text": [
            "+---------+\n",
            "|  sum(id)|\n",
            "+---------+\n",
            "|247015948|\n",
            "+---------+\n",
            "\n",
            "Marcelo Moreira de Almeida - RU 4100225\n"
          ]
        }
      ]
    },
    {
      "cell_type": "markdown",
      "source": [
        "Prática 02 – Diferença do número de palavras totais de português para inglês os textos negativos"
      ],
      "metadata": {
        "id": "DKjP2YwoA5Fm"
      }
    },
    {
      "cell_type": "code",
      "source": [
        "from pyspark.sql import SparkSession\n",
        "from pyspark.sql.functions import split, explode, lower, regexp_replace, size, col, sum\n",
        "\n",
        "# Inicializar a sessão Spark\n",
        "spark_RU4100225 = SparkSession.builder.appName(\"ComparacaoPalavras\").getOrCreate()\n",
        "\n",
        "# Carregar o DataFrame\n",
        "df = spark_RU4100225.read.csv(\"imdb-reviews-pt-br.csv\", header=True, inferSchema=True)\n",
        "\n",
        "# Filtrar avaliações negativas\n",
        "neg_reviews = df.filter(df[\"sentiment\"] == \"neg\")\n",
        "\n",
        "# Função para contar palavras em uma string\n",
        "def contar_palavras(texto):\n",
        "    palavras = texto.lower().split()\n",
        "    return len(palavras)\n",
        "\n",
        "# Registrar a função como uma UDF (User Defined Function) do Spark\n",
        "spark_RU4100225.udf.register(\"contar_palavras_udf\", contar_palavras)\n",
        "\n",
        "\n",
        "# Contar palavras em português\n",
        "port_reviews = neg_reviews.filter(df[\"text_pt\"].isNotNull())\n",
        "port_word_count = port_reviews.withColumn(\"word_count_pt\", size(split(lower(regexp_replace(\"text_pt\", \"[^a-zA-ZÀ-ÿ ]\", \"\")), \" \"))) \\\n",
        "    .agg(sum(\"word_count_pt\").alias(\"total_words_pt\"))\n",
        "\n",
        "# Contar palavras em inglês\n",
        "eng_reviews = neg_reviews.filter(df[\"text_en\"].isNotNull())\n",
        "eng_word_count = eng_reviews.withColumn(\"word_count_en\", size(split(lower(regexp_replace(\"text_en\", \"[^a-zA-Z ]\", \"\")), \" \"))) \\\n",
        "    .agg(sum(\"word_count_en\").alias(\"total_words_en\"))\n",
        "\n",
        "# Calcular a diferença\n",
        "print(port_word_count.collect()[0][\"total_words_pt\"])\n",
        "print(eng_word_count.collect()[0][\"total_words_en\"])\n",
        "diff = port_word_count.collect()[0][\"total_words_pt\"] - eng_word_count.collect()[0][\"total_words_en\"]\n",
        "\n",
        "# Exibir o resultado\n",
        "print(f\"Diferença de palavras: {diff}\")\n",
        "\n",
        "spark_RU4100225.stop()\n",
        "print(\"Marcelo Moreira de Almeida - RU 4100225\")"
      ],
      "metadata": {
        "colab": {
          "base_uri": "https://localhost:8080/"
        },
        "id": "lXVqA6tXACgP",
        "outputId": "19954399-248a-469c-94e4-8c5292edc351"
      },
      "execution_count": 20,
      "outputs": [
        {
          "output_type": "stream",
          "name": "stdout",
          "text": [
            "2415179\n",
            "2399590\n",
            "Diferença de palavras: 15589\n",
            "Marcelo Moreira de Almeida - RU 4100225\n"
          ]
        }
      ]
    }
  ]
}